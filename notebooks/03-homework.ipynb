{
 "cells": [
  {
   "cell_type": "code",
   "execution_count": 1,
   "metadata": {},
   "outputs": [],
   "source": [
    "import numpy as np\n",
    "import pandas as pd\n",
    "import matplotlib.pyplot as plt\n",
    "import tqdm\n",
    "\n",
    "from sklearn.metrics import accuracy_score, confusion_matrix\n",
    "from sklearn.model_selection import train_test_split\n",
    "from sklearn.linear_model import LogisticRegression\n",
    "from sklearn.svm import SVC\n",
    "from sklearn.naive_bayes import GaussianNB\n",
    "from sklearn.neighbors import KNeighborsClassifier\n",
    "from sklearn.metrics import precision_score, recall_score, accuracy_score, f1_score\n",
    "import seaborn as sns"
   ]
  },
  {
   "cell_type": "code",
   "execution_count": 2,
   "metadata": {},
   "outputs": [],
   "source": [
    "data = pd.read_pickle(\"../data/train.pickle\")"
   ]
  },
  {
   "cell_type": "code",
   "execution_count": 3,
   "metadata": {},
   "outputs": [],
   "source": [
    "X = data[\"features\"].reshape(data[\"features\"].shape[0], -1)\n",
    "y = data[\"labels\"]\n",
    "\n",
    "x_train, x_test, y_train, y_test = train_test_split(X, y)"
   ]
  },
  {
   "cell_type": "code",
   "execution_count": 4,
   "metadata": {},
   "outputs": [],
   "source": [
    "def check_metrics(y_true, y_pred):\n",
    "    \"\"\"\n",
    "    Выводит precision, recall, accuracy, f1\n",
    "    \"\"\"\n",
    "    return {\"Precision\" : precision_score(y_true, y_pred, average='macro'), \n",
    "            \"Recall\" : recall_score(y_true, y_pred, average='macro'),\n",
    "            \"Accuracy\" : accuracy_score(y_true, y_pred),\n",
    "            \"F1\" : f1_score(y_true, y_pred, average='weighted')\n",
    "            }"
   ]
  },
  {
   "cell_type": "markdown",
   "metadata": {},
   "source": [
    "Решил глянуть именно эти метрики, потому что это +- классический набор, как я понимаю\n",
    "\n",
    "precision отображает, сколько \"positive preds\" классификатор сделал верно;\n",
    "recall отображает, сколько \"positive cases\" классификатор правильно обработал;\n",
    "accuracy отображает, как часто классификатор ошибается;\n",
    "f1 считает среднее гармоническое между precision и recall;\n"
   ]
  },
  {
   "cell_type": "markdown",
   "metadata": {},
   "source": [
    "## Easy\n",
    "\n",
    "Скачать датасет, обучить логистическую регрессию, измерить качество.\n",
    "\n",
    "Текстом кратко обосновать какую метрику выбираем и почему такую.\n",
    "\n",
    "Какой вид дорожных знаков модель путает чаще всего?\n",
    "\n"
   ]
  },
  {
   "cell_type": "code",
   "execution_count": 5,
   "metadata": {},
   "outputs": [
    {
     "name": "stderr",
     "output_type": "stream",
     "text": [
      "/home/timur/.conda/envs/my-env/lib/python3.8/site-packages/sklearn/linear_model/_logistic.py:460: ConvergenceWarning: lbfgs failed to converge (status=1):\n",
      "STOP: TOTAL NO. of ITERATIONS REACHED LIMIT.\n",
      "\n",
      "Increase the number of iterations (max_iter) or scale the data as shown in:\n",
      "    https://scikit-learn.org/stable/modules/preprocessing.html\n",
      "Please also refer to the documentation for alternative solver options:\n",
      "    https://scikit-learn.org/stable/modules/linear_model.html#logistic-regression\n",
      "  n_iter_i = _check_optimize_result(\n"
     ]
    }
   ],
   "source": [
    "clf = LogisticRegression(random_state=0, max_iter=1000).fit(x_train, y_train)"
   ]
  },
  {
   "cell_type": "code",
   "execution_count": 6,
   "metadata": {},
   "outputs": [
    {
     "name": "stdout",
     "output_type": "stream",
     "text": [
      "{'Precision': 0.9553665181745602, 'Recall': 0.9480706239978786, 'Accuracy': 0.9522988505747126, 'F1': 0.9523525051685707}\n"
     ]
    }
   ],
   "source": [
    "y_pred = clf.predict(x_test)\n",
    "print(check_metrics(y_test, y_pred))"
   ]
  },
  {
   "cell_type": "code",
   "execution_count": 7,
   "metadata": {},
   "outputs": [
    {
     "data": {
      "image/png": "[encoded data removed]",
      "text/plain": [
       "<Figure size 640x480 with 1 Axes>"
      ]
     },
     "metadata": {},
     "output_type": "display_data"
    }
   ],
   "source": [
    "conf_matrix = confusion_matrix(y_pred, y_test)\n",
    "wrong_predictions_per_class = np.sum(conf_matrix, axis=1) - np.diag(conf_matrix)\n",
    "worst_recognized_class = np.argmax(wrong_predictions_per_class)\n",
    "plt.imshow(data['features'][data['labels'] == worst_recognized_class][0], interpolation='nearest')\n",
    "plt.show()"
   ]
  },
  {
   "cell_type": "markdown",
   "metadata": {},
   "source": [
    "Хуже всего угадывается этот знак\n",
    "\n",
    "я, честно, сам не понимаю, что это :)\n"
   ]
  },
  {
   "cell_type": "markdown",
   "metadata": {},
   "source": [
    "## Medium\n",
    "\n",
    "Обучить и сравнить между собой:\n",
    "\n",
    "- логистическая регрессия\n",
    "- kNN\n",
    "- НБК\n",
    "- SVM (попробовать 3 разных ядра)\n",
    "\n",
    "Какая модель отработала лучше, а какая хуже всех?\n",
    "\n",
    "Проинтерпретируйте почему худшая модель именно эта."
   ]
  },
  {
   "cell_type": "code",
   "execution_count": 8,
   "metadata": {},
   "outputs": [],
   "source": [
    "knn = KNeighborsClassifier()\n",
    "gnb = GaussianNB()\n",
    "svc_linear = SVC(kernel='linear')\n",
    "svc_rbf = SVC(kernel='rbf')\n",
    "svc_poly = SVC(kernel='poly')"
   ]
  },
  {
   "cell_type": "code",
   "execution_count": 14,
   "metadata": {},
   "outputs": [],
   "source": [
    "models = {\n",
    "    'Logistic Regression': clf,\n",
    "    'kNN': knn,\n",
    "    'Naive Bayes': gnb,\n",
    "    'svc_linear': svc_linear,\n",
    "    'svc_rbf': svc_rbf,\n",
    "    'svc_poly': svc_poly\n",
    "}"
   ]
  },
  {
   "cell_type": "code",
   "execution_count": 15,
   "metadata": {},
   "outputs": [
    {
     "name": "stdout",
     "output_type": "stream",
     "text": [
      "Logistic Regression\n"
     ]
    },
    {
     "name": "stderr",
     "output_type": "stream",
     "text": [
      "/home/timur/.conda/envs/my-env/lib/python3.8/site-packages/sklearn/linear_model/_logistic.py:460: ConvergenceWarning: lbfgs failed to converge (status=1):\n",
      "STOP: TOTAL NO. of ITERATIONS REACHED LIMIT.\n",
      "\n",
      "Increase the number of iterations (max_iter) or scale the data as shown in:\n",
      "    https://scikit-learn.org/stable/modules/preprocessing.html\n",
      "Please also refer to the documentation for alternative solver options:\n",
      "    https://scikit-learn.org/stable/modules/linear_model.html#logistic-regression\n",
      "  n_iter_i = _check_optimize_result(\n"
     ]
    },
    {
     "name": "stdout",
     "output_type": "stream",
     "text": [
      "kNN\n",
      "Naive Bayes\n",
      "svc_linear\n",
      "svc_rbf\n",
      "svc_poly\n"
     ]
    }
   ],
   "source": [
    "for key, item in models.items():\n",
    "    print(key)\n",
    "    item.fit(x_train, y_train)"
   ]
  },
  {
   "cell_type": "code",
   "execution_count": 16,
   "metadata": {},
   "outputs": [
    {
     "name": "stdout",
     "output_type": "stream",
     "text": [
      "Logistic Regression:\n",
      "{'Precision': 0.9553665181745602, 'Recall': 0.9480706239978786, 'Accuracy': 0.9522988505747126, 'F1': 0.9523525051685707}\n",
      "kNN:\n",
      "{'Precision': 0.8885699740177719, 'Recall': 0.8712383742183444, 'Accuracy': 0.87, 'F1': 0.8710889776858978}\n"
     ]
    },
    {
     "name": "stderr",
     "output_type": "stream",
     "text": [
      "/home/timur/.conda/envs/my-env/lib/python3.8/site-packages/sklearn/metrics/_classification.py:1469: UndefinedMetricWarning: Precision is ill-defined and being set to 0.0 in labels with no predicted samples. Use `zero_division` parameter to control this behavior.\n",
      "  _warn_prf(average, modifier, msg_start, len(result))\n"
     ]
    },
    {
     "name": "stdout",
     "output_type": "stream",
     "text": [
      "Naive Bayes:\n",
      "{'Precision': 0.34518453664570814, 'Recall': 0.23993189675676774, 'Accuracy': 0.1674712643678161, 'F1': 0.17577753804369628}\n",
      "svc_linear:\n",
      "{'Precision': 0.9490885229355427, 'Recall': 0.9554822866106684, 'Accuracy': 0.9573563218390805, 'F1': 0.9575754249934845}\n",
      "svc_rbf:\n",
      "{'Precision': 0.9250606920444835, 'Recall': 0.8314682689733347, 'Accuracy': 0.8679310344827587, 'F1': 0.8700271727037686}\n",
      "svc_poly:\n",
      "{'Precision': 0.8640305520997985, 'Recall': 0.6820214216044214, 'Accuracy': 0.7068965517241379, 'F1': 0.7469631826769358}\n"
     ]
    }
   ],
   "source": [
    "for key, model in models.items():\n",
    "    y_pred = model.predict(x_test)\n",
    "    metrics = check_metrics(y_test, y_pred)\n",
    "    print(f\"{key}:\")\n",
    "    print(metrics)"
   ]
  },
  {
   "cell_type": "markdown",
   "metadata": {},
   "source": [
    "Лучше всего сработали логрег и svc с линейным ядром и rbf, так как, видимо есть линейная зависимость.\n",
    "\n",
    "Самой неудачной моделью оказался наивный Байес из-за как раз таки своей наивности..) То есть из-за предположения о независимости или данные плохо распределены по классамч"
   ]
  }
 ],
 "metadata": {
  "kernelspec": {
   "display_name": "my-env",
   "language": "python",
   "name": "python3"
  },
  "language_info": {
   "codemirror_mode": {
    "name": "ipython",
    "version": 3
   },
   "file_extension": ".py",
   "mimetype": "text/x-python",
   "name": "python",
   "nbconvert_exporter": "python",
   "pygments_lexer": "ipython3",
   "version": "3.8.18"
  }
 },
 "nbformat": 4,
 "nbformat_minor": 2
}
