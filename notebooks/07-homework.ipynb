{
 "cells": [
  {
   "cell_type": "markdown",
   "metadata": {},
   "source": [
    "Easy:\n",
    "\n",
    "Написать CLI-программу, которая должна уметь делать вот такие штуки:\n",
    "\n",
    "python main.py train --data train.csv --test test.csv --model model.pkl\n",
    "\n",
    "python main.py train --data train.csv --split 0.2 --model model.pkl\n",
    "\n",
    "python main.py predict --model model.pkl --data \"some text\"\n",
    "\n",
    "python main.py predict --model model.pkl --data test.csv\n",
    "\n",
    "Команда train должна обучать модель по данным --data и складывать результат в --model в формате pickle. Если передается аргумент --test или --split, то формируется тестовый датасет, на котором нужно будет посчитать метрики после обучения. --test - пусть до файла с тестовыми данными в том же формате, что и --data. --split - доля тестовой выборки, которая отделится от --data.\n",
    "\n",
    "Команда predict должна выдавать предсказание модели. --model - путь до файла с моделью с этапа обучения, data - либо файл, либо строка. Если это файл, то формат как в --data и тогда в консоль выводим предсказания через \\n.\n",
    "\n",
    "Вызвать в юпитер ноутбуки эти команды (через восклицательный знак), вывод должен остаться в ноутбуке как доказательство работоспособности команды"
   ]
  },
  {
   "cell_type": "code",
   "execution_count": null,
   "metadata": {},
   "outputs": [],
   "source": [
    "!python main.py train --data ../data/singapore_airlines_reviews.csv --split 0.2 --model model.pkl"
   ]
  },
  {
   "cell_type": "code",
   "execution_count": null,
   "metadata": {},
   "outputs": [],
   "source": [
    "!python main.py predict --model model.pkl --data ../data/singapore_airlines_reviews.csv"
   ]
  },
  {
   "cell_type": "markdown",
   "metadata": {},
   "source": [
    "Medium\n",
    "Написать тесты на ваш код. Обработать краевые случаи.\n",
    "\n",
    "python main.py test или pytest\n",
    "\n",
    "Должно быть минимум три теста\n",
    "\n",
    "функцию обучения (что оно корректно запускается на корректных данных, корректно реагирует на некорректные данные и что на выходе появляется sklearn-подобный файлик) - лучше запустить на каких-то небольших фиксированных данных и на маленькое количество итераций. после того, как тест отработает, файлик с моделью нужно удалить.\n",
    "функцию предикта, и что на выходе ничего не появляется, кроме того, что ожидается (стоит подумать, что подавать на вход)\n",
    "функцию разбиения данных - что это происходит в правильной пропорции и что происходит перемешивание. не забываем, что можно контроллировать random seed."
   ]
  },
  {
   "cell_type": "code",
   "execution_count": 4,
   "metadata": {},
   "outputs": [
    {
     "name": "stdout",
     "output_type": "stream",
     "text": [
      "\u001b[1m============================= test session starts ==============================\u001b[0m\n",
      "platform linux -- Python 3.11.9, pytest-8.1.1, pluggy-1.4.0\n",
      "rootdir: /home/timur/hse_ml_course_2024/notebooks\n",
      "collected 0 items / 1 error                                                    \u001b[0m\u001b[1m\n",
      "\n",
      "==================================== ERRORS ====================================\n",
      "\u001b[31m\u001b[1m___________________________ ERROR collecting test.py ___________________________\u001b[0m\n",
      "\u001b[31mImportError while importing test module '/home/timur/hse_ml_course_2024/notebooks/test.py'.\n",
      "Hint: make sure your test modules/packages have valid Python names.\n",
      "Traceback:\n",
      "\u001b[1m\u001b[31m/usr/lib/python3.11/importlib/__init__.py\u001b[0m:126: in import_module\n",
      "    \u001b[0m\u001b[94mreturn\u001b[39;49;00m _bootstrap._gcd_import(name[level:], package, level)\u001b[90m\u001b[39;49;00m\n",
      "\u001b[1m\u001b[31mtest.py\u001b[0m:9: in <module>\n",
      "    \u001b[0m\u001b[94mfrom\u001b[39;49;00m \u001b[04m\u001b[96mclick\u001b[39;49;00m\u001b[04m\u001b[96m.\u001b[39;49;00m\u001b[04m\u001b[96mtesting\u001b[39;49;00m \u001b[94mimport\u001b[39;49;00m CliRunner\u001b[90m\u001b[39;49;00m\n",
      "\u001b[1m\u001b[31mE   ModuleNotFoundError: No module named 'click'\u001b[0m\u001b[0m\n",
      "\u001b[36m\u001b[1m=========================== short test summary info ============================\u001b[0m\n",
      "\u001b[31mERROR\u001b[0m test.py\n",
      "!!!!!!!!!!!!!!!!!!!! Interrupted: 1 error during collection !!!!!!!!!!!!!!!!!!!!\n",
      "\u001b[31m=============================== \u001b[31m\u001b[1m1 error\u001b[0m\u001b[31m in 0.72s\u001b[0m\u001b[31m ===============================\u001b[0m\n"
     ]
    }
   ],
   "source": [
    "!pytest test.py"
   ]
  },
  {
   "cell_type": "markdown",
   "metadata": {},
   "source": [
    "Я не успеваю это исправить, искренне не понимаю, в чём проблема. Если разрешите -- я покапаюсь на стековерфлоу попозже и исправлю.."
   ]
  },
  {
   "cell_type": "code",
   "execution_count": null,
   "metadata": {},
   "outputs": [],
   "source": []
  }
 ],
 "metadata": {
  "kernelspec": {
   "display_name": "my-env",
   "language": "python",
   "name": "python3"
  },
  "language_info": {
   "codemirror_mode": {
    "name": "ipython",
    "version": 3
   },
   "file_extension": ".py",
   "mimetype": "text/x-python",
   "name": "python",
   "nbconvert_exporter": "python",
   "pygments_lexer": "ipython3",
   "version": "3.8.18"
  }
 },
 "nbformat": 4,
 "nbformat_minor": 2
}
